{
 "cells": [
  {
   "cell_type": "markdown",
   "id": "e69ab7fc",
   "metadata": {},
   "source": [
    "Hoy ando usando un poco más mi laptop de hecho primera vez que uso un notebook ipynb para hacer journaling. No hay más que experimentar la vida. ¿No? \n",
    "Justo este día me dediqué a avanzar agresivamente sobre la claridad para lograr mis objetivos de hacer crecer mi empresa de producción de kefir. Va rápido, confían en mi pero estoy tomando muchos riesgos creo ya ocupo usar la nu u otra especificamente para gastos del kefir y de alguna forma pasar esos datos con los contadores. Ese es un punto importante. A ver con: esos de Zari.\n",
    "\n",
    "Avancé en producción. Storytelling y casi acabo el avance de producción. Toca producir, es la prueba encarnada. En fin por algo estoy aquí: "
   ]
  },
  {
   "cell_type": "code",
   "execution_count": null,
   "id": "2b1202e4",
   "metadata": {},
   "outputs": [],
   "source": []
  }
 ],
 "metadata": {
  "language_info": {
   "name": "python"
  }
 },
 "nbformat": 4,
 "nbformat_minor": 5
}
