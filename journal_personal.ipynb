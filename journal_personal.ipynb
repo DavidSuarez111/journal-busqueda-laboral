{
 "cells": [
  {
   "cell_type": "markdown",
   "id": "e69ab7fc",
   "metadata": {},
   "source": [
    "Hoy ando usando un poco más mi laptop de hecho primera vez que uso un notebook ipynb para hacer journaling. No hay más que experimentar la vida. ¿No? \n",
    "Justo este día me dediqué a avanzar agresivamente sobre la claridad para lograr mis objetivos de hacer crecer mi empresa de producción de kefir. Va rápido, confían en mi pero estoy tomando muchos riesgos creo ya ocupo usar la nu u otra especificamente para gastos del kefir y de alguna forma pasar esos datos con los contadores. Ese es un punto importante. A ver con: esos de Zari.\n",
    "\n",
    "Avancé en producción. Storytelling y casi acabo el avance de producción. Toca producir, es la prueba encarnada. En fin por algo estoy aquí: "
   ]
  }
 ],
 "metadata": {
  "kernelspec": {
   "display_name": "venv",
   "language": "python",
   "name": "python3"
  },
  "language_info": {
   "codemirror_mode": {
    "name": "ipython",
    "version": 3
   },
   "file_extension": ".py",
   "mimetype": "text/x-python",
   "name": "python",
   "nbconvert_exporter": "python",
   "pygments_lexer": "ipython3",
   "version": "3.13.7"
  }
 },
 "nbformat": 4,
 "nbformat_minor": 5
}
